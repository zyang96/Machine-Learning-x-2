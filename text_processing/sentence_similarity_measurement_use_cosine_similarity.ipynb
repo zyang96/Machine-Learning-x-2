{
 "cells": [
  {
   "cell_type": "markdown",
   "metadata": {},
   "source": [
    "# Use cosine similarity to measure the similarity between sentence & using Tf-idf to vectorize sentences in a document\n",
    "http://scikit-learn.org/stable/modules/feature_extraction.html\n",
    "4.2.3.4 explains the Ti-idf feature\n",
    "\n",
    "Cosine similarity is a measure between two vectors (by calculating the angle between them, instead of just magnitutde of two\n",
    "\n",
    "The reason that Cosine similarity is very useful for ti-idf feature, is because the vectorized sentence is sparse vector (explanation of sparse vector, see below)"
   ]
  },
  {
   "cell_type": "code",
   "execution_count": 124,
   "metadata": {
    "collapsed": false
   },
   "outputs": [
    {
     "name": "stdout",
     "output_type": "stream",
     "text": [
      "(5, 12)\n",
      "the radians of the angle between two vector 81.2350831717\n"
     ]
    }
   ],
   "source": [
    "documents = (\n",
    "\"The sky\",\n",
    "\"The is blue\",\n",
    "\"The sun is bright\",\n",
    "\"The sky in shining sum\",\n",
    "\"We can see the shining sun, the sun\"\n",
    ")\n",
    "\n",
    "import numpy as np\n",
    "from sklearn.feature_extraction.text import TfidfVectorizer\n",
    "tfidf_vectorizer = TfidfVectorizer()\n",
    "tfidf_matrix = tfidf_vectorizer.fit_transform(documents) # vectorize the documents\n",
    "print tfidf_matrix.shape\n",
    "\n",
    "from sklearn.metrics.pairwise import cosine_similarity\n",
    "cos_between_vector1_to_others = cosine_similarity(tfidf_matrix[0:1], tfidf_matrix)\n",
    "\n",
    "import math\n",
    "cos_val = cos_between_vector1_to_others[0,2] # cosine angle between vectorized sentence 1 to sentence 3\n",
    "angle_in_radians = math.acos(cos_val)\n",
    "print 'the radians of the angle between two vector', math.degrees(angle_in_radians)"
   ]
  },
  {
   "cell_type": "markdown",
   "metadata": {},
   "source": [
    "For the whole documents, the tfidf is calculated based on the total distinct word. if the sentence 1 has 3 distinct word from the whole documents word dictionary, then only those 3 entries in the vector_sentence1 has non-zero values, others will be zeros. Since many entries might be 0's, the tfidf vector is a sparse vector (only small number of dimensions have non-zero values).\n",
    "\n",
    "And the cosine similarity will be very efficient to be applied to text vectorized vector, sparse vector, because the value will based on calculating dot product between non-zero entries in two vectors, and divide by the product of norm"
   ]
  },
  {
   "cell_type": "code",
   "execution_count": 125,
   "metadata": {
    "collapsed": false
   },
   "outputs": [
    {
     "name": "stdout",
     "output_type": "stream",
     "text": [
      "[ 0.861037    0.50854232]\n",
      "[ 0.72971837  0.58873218  0.34771471]\n",
      "[ 0.62883263  0.50733821  0.50733821  0.29964212]\n",
      "[ 0.53233003  0.42948052  0.53233003  0.42948052  0.25365811]\n",
      "[ 0.37364424  0.37364424  0.37364424  0.30145382  0.60290764  0.35608696]\n"
     ]
    }
   ],
   "source": [
    "for i in range(tfidf_matrix.shape[0]):\n",
    "    print tfidf_matrix[i,:].data"
   ]
  },
  {
   "cell_type": "code",
   "execution_count": 126,
   "metadata": {
    "collapsed": false
   },
   "outputs": [
    {
     "name": "stdout",
     "output_type": "stream",
     "text": [
      "[[ 1.          0.17682765  0.1523807   0.4987945   0.18108529]]\n"
     ]
    }
   ],
   "source": [
    "print cosine_similarity(tfidf_matrix[0,:], tfidf_matrix) #the first sparse vector cosine similarity with other 4 vectors"
   ]
  },
  {
   "cell_type": "code",
   "execution_count": 127,
   "metadata": {
    "collapsed": false
   },
   "outputs": [
    {
     "name": "stdout",
     "output_type": "stream",
     "text": [
      "[[ 1.          0.17682765  0.1523807   0.4987945   0.18108529]\n",
      " [ 0.17682765  1.          0.40287631  0.08820066  0.12381668]\n",
      " [ 0.1523807   0.40287631  1.          0.07600665  0.41257673]\n",
      " [ 0.4987945   0.08820066  0.07600665  1.          0.21979289]\n",
      " [ 0.18108529  0.12381668  0.41257673  0.21979289  1.        ]]\n"
     ]
    }
   ],
   "source": [
    "print cosine_similarity(tfidf_matrix, tfidf_matrix) # confusion matrix all to all cosine similarities"
   ]
  },
  {
   "cell_type": "code",
   "execution_count": null,
   "metadata": {
    "collapsed": true
   },
   "outputs": [],
   "source": []
  }
 ],
 "metadata": {
  "kernelspec": {
   "display_name": "Python 2",
   "language": "python",
   "name": "python2"
  },
  "language_info": {
   "codemirror_mode": {
    "name": "ipython",
    "version": 2
   },
   "file_extension": ".py",
   "mimetype": "text/x-python",
   "name": "python",
   "nbconvert_exporter": "python",
   "pygments_lexer": "ipython2",
   "version": "2.7.12"
  }
 },
 "nbformat": 4,
 "nbformat_minor": 0
}
